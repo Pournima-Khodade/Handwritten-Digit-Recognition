{
 "cells": [
  {
   "cell_type": "code",
   "execution_count": 1,
   "id": "234e5e19-e03b-49c1-bb83-27277a0ffeff",
   "metadata": {},
   "outputs": [],
   "source": [
    "import numpy as np\n",
    "import pandas as pd"
   ]
  },
  {
   "cell_type": "code",
   "execution_count": 2,
   "id": "936354d1-3bbb-4ab6-ab1d-2349576b1529",
   "metadata": {},
   "outputs": [],
   "source": [
    "from tensorflow.keras import datasets"
   ]
  },
  {
   "cell_type": "code",
   "execution_count": 3,
   "id": "9ccfb0bb-9650-42e1-8012-bc845fee3068",
   "metadata": {},
   "outputs": [],
   "source": [
    "(x_train, y_train), (x_test, y_test) = datasets.mnist.load_data()"
   ]
  },
  {
   "cell_type": "code",
   "execution_count": 4,
   "id": "0205cb93-4511-4250-bca2-c06f27fb5e06",
   "metadata": {},
   "outputs": [
    {
     "data": {
      "text/plain": [
       "array([5, 0, 4, ..., 5, 6, 8], dtype=uint8)"
      ]
     },
     "execution_count": 4,
     "metadata": {},
     "output_type": "execute_result"
    }
   ],
   "source": [
    "y_train"
   ]
  },
  {
   "cell_type": "code",
   "execution_count": 5,
   "id": "7596ed0f-adb4-46b7-bae3-5ddb068d5ba9",
   "metadata": {},
   "outputs": [
    {
     "data": {
      "text/plain": [
       "(60000, 28, 28)"
      ]
     },
     "execution_count": 5,
     "metadata": {},
     "output_type": "execute_result"
    }
   ],
   "source": [
    "x_train.shape"
   ]
  },
  {
   "cell_type": "code",
   "execution_count": 6,
   "id": "7f4736cf-8bdc-4532-a5e3-d7e1adb23890",
   "metadata": {},
   "outputs": [
    {
     "data": {
      "text/plain": [
       "(10000, 28, 28)"
      ]
     },
     "execution_count": 6,
     "metadata": {},
     "output_type": "execute_result"
    }
   ],
   "source": [
    "x_test.shape"
   ]
  },
  {
   "cell_type": "code",
   "execution_count": 7,
   "id": "a58d2410-8e07-4c72-89df-c5156a8e86d3",
   "metadata": {},
   "outputs": [],
   "source": [
    "width, height = 28, 28\n",
    "input_shape = (width, height, 1)"
   ]
  },
  {
   "cell_type": "code",
   "execution_count": 8,
   "id": "c8ccee0f-048b-4dbc-a3c7-1977fe286680",
   "metadata": {},
   "outputs": [
    {
     "data": {
      "text/plain": [
       "(28, 28, 1)"
      ]
     },
     "execution_count": 8,
     "metadata": {},
     "output_type": "execute_result"
    }
   ],
   "source": [
    "input_shape"
   ]
  },
  {
   "cell_type": "code",
   "execution_count": 9,
   "id": "e661b3c2-d246-4e38-9362-d92c5a4c493f",
   "metadata": {},
   "outputs": [],
   "source": [
    "x_train = x_train.reshape(x_train.shape[0], height, width, 1)\n",
    "x_test = x_test.reshape(x_test.shape[0], height, width, 1)"
   ]
  },
  {
   "cell_type": "code",
   "execution_count": 10,
   "id": "38a26eec-cf1e-4904-987e-13878521e449",
   "metadata": {},
   "outputs": [
    {
     "data": {
      "text/plain": [
       "(60000, 28, 28, 1)"
      ]
     },
     "execution_count": 10,
     "metadata": {},
     "output_type": "execute_result"
    }
   ],
   "source": [
    "x_train = x_train.reshape(x_train.shape[0], height, width, 1)\n",
    "x_test = x_test.reshape(x_test.shape[0], height, width, 1)"
   ]
  },
  {
   "cell_type": "code",
   "execution_count": 11,
   "id": "9d1e750d-6bec-438c-8f80-efb3de811d65",
   "metadata": {},
   "outputs": [
    {
     "data": {
      "text/plain": [
       "(60000,)"
      ]
     },
     "execution_count": 11,
     "metadata": {},
     "output_type": "execute_result"
    }
   ],
   "source": [
    "y_train.shape"
   ]
  },
  {
   "cell_type": "code",
   "execution_count": 12,
   "id": "9a06d93f-1212-405b-8e40-932b7ebc3e7f",
   "metadata": {},
   "outputs": [],
   "source": [
    "from sklearn.model_selection import train_test_split\n",
    "x_train, x_val, y_train, y_val = train_test_split(x_train, y_train, test_size = 0.1)"
   ]
  },
  {
   "cell_type": "code",
   "execution_count": 13,
   "id": "f03da1a6-757c-4a97-8e56-0d36a80592d5",
   "metadata": {},
   "outputs": [
    {
     "data": {
      "text/plain": [
       "6000"
      ]
     },
     "execution_count": 13,
     "metadata": {},
     "output_type": "execute_result"
    }
   ],
   "source": [
    "len(x_val)"
   ]
  },
  {
   "cell_type": "code",
   "execution_count": 14,
   "id": "fe213873-9d73-413f-a11d-6b93846f759b",
   "metadata": {},
   "outputs": [],
   "source": [
    "x_train = (x_train - x_train.mean()) / x_train.std()\n",
    "x_val = (x_val - x_val.mean()) / x_val.std()\n",
    "x_test = (x_test - x_test.mean()) / x_test.std()"
   ]
  },
  {
   "cell_type": "code",
   "execution_count": 15,
   "id": "d301dc63-d1cc-4d75-9789-180b3aa7965e",
   "metadata": {},
   "outputs": [
    {
     "data": {
      "text/plain": [
       "array([[[[-0.42415712],\n",
       "         [-0.42415712],\n",
       "         [-0.42415712],\n",
       "         ...,\n",
       "         [-0.42415712],\n",
       "         [-0.42415712],\n",
       "         [-0.42415712]],\n",
       "\n",
       "        [[-0.42415712],\n",
       "         [-0.42415712],\n",
       "         [-0.42415712],\n",
       "         ...,\n",
       "         [-0.42415712],\n",
       "         [-0.42415712],\n",
       "         [-0.42415712]],\n",
       "\n",
       "        [[-0.42415712],\n",
       "         [-0.42415712],\n",
       "         [-0.42415712],\n",
       "         ...,\n",
       "         [-0.42415712],\n",
       "         [-0.42415712],\n",
       "         [-0.42415712]],\n",
       "\n",
       "        ...,\n",
       "\n",
       "        [[-0.42415712],\n",
       "         [-0.42415712],\n",
       "         [-0.42415712],\n",
       "         ...,\n",
       "         [-0.42415712],\n",
       "         [-0.42415712],\n",
       "         [-0.42415712]],\n",
       "\n",
       "        [[-0.42415712],\n",
       "         [-0.42415712],\n",
       "         [-0.42415712],\n",
       "         ...,\n",
       "         [-0.42415712],\n",
       "         [-0.42415712],\n",
       "         [-0.42415712]],\n",
       "\n",
       "        [[-0.42415712],\n",
       "         [-0.42415712],\n",
       "         [-0.42415712],\n",
       "         ...,\n",
       "         [-0.42415712],\n",
       "         [-0.42415712],\n",
       "         [-0.42415712]]],\n",
       "\n",
       "\n",
       "       [[[-0.42415712],\n",
       "         [-0.42415712],\n",
       "         [-0.42415712],\n",
       "         ...,\n",
       "         [-0.42415712],\n",
       "         [-0.42415712],\n",
       "         [-0.42415712]],\n",
       "\n",
       "        [[-0.42415712],\n",
       "         [-0.42415712],\n",
       "         [-0.42415712],\n",
       "         ...,\n",
       "         [-0.42415712],\n",
       "         [-0.42415712],\n",
       "         [-0.42415712]],\n",
       "\n",
       "        [[-0.42415712],\n",
       "         [-0.42415712],\n",
       "         [-0.42415712],\n",
       "         ...,\n",
       "         [-0.42415712],\n",
       "         [-0.42415712],\n",
       "         [-0.42415712]],\n",
       "\n",
       "        ...,\n",
       "\n",
       "        [[-0.42415712],\n",
       "         [-0.42415712],\n",
       "         [-0.42415712],\n",
       "         ...,\n",
       "         [-0.42415712],\n",
       "         [-0.42415712],\n",
       "         [-0.42415712]],\n",
       "\n",
       "        [[-0.42415712],\n",
       "         [-0.42415712],\n",
       "         [-0.42415712],\n",
       "         ...,\n",
       "         [-0.42415712],\n",
       "         [-0.42415712],\n",
       "         [-0.42415712]],\n",
       "\n",
       "        [[-0.42415712],\n",
       "         [-0.42415712],\n",
       "         [-0.42415712],\n",
       "         ...,\n",
       "         [-0.42415712],\n",
       "         [-0.42415712],\n",
       "         [-0.42415712]]],\n",
       "\n",
       "\n",
       "       [[[-0.42415712],\n",
       "         [-0.42415712],\n",
       "         [-0.42415712],\n",
       "         ...,\n",
       "         [-0.42415712],\n",
       "         [-0.42415712],\n",
       "         [-0.42415712]],\n",
       "\n",
       "        [[-0.42415712],\n",
       "         [-0.42415712],\n",
       "         [-0.42415712],\n",
       "         ...,\n",
       "         [-0.42415712],\n",
       "         [-0.42415712],\n",
       "         [-0.42415712]],\n",
       "\n",
       "        [[-0.42415712],\n",
       "         [-0.42415712],\n",
       "         [-0.42415712],\n",
       "         ...,\n",
       "         [-0.42415712],\n",
       "         [-0.42415712],\n",
       "         [-0.42415712]],\n",
       "\n",
       "        ...,\n",
       "\n",
       "        [[-0.42415712],\n",
       "         [-0.42415712],\n",
       "         [-0.42415712],\n",
       "         ...,\n",
       "         [-0.42415712],\n",
       "         [-0.42415712],\n",
       "         [-0.42415712]],\n",
       "\n",
       "        [[-0.42415712],\n",
       "         [-0.42415712],\n",
       "         [-0.42415712],\n",
       "         ...,\n",
       "         [-0.42415712],\n",
       "         [-0.42415712],\n",
       "         [-0.42415712]],\n",
       "\n",
       "        [[-0.42415712],\n",
       "         [-0.42415712],\n",
       "         [-0.42415712],\n",
       "         ...,\n",
       "         [-0.42415712],\n",
       "         [-0.42415712],\n",
       "         [-0.42415712]]],\n",
       "\n",
       "\n",
       "       ...,\n",
       "\n",
       "\n",
       "       [[[-0.42415712],\n",
       "         [-0.42415712],\n",
       "         [-0.42415712],\n",
       "         ...,\n",
       "         [-0.42415712],\n",
       "         [-0.42415712],\n",
       "         [-0.42415712]],\n",
       "\n",
       "        [[-0.42415712],\n",
       "         [-0.42415712],\n",
       "         [-0.42415712],\n",
       "         ...,\n",
       "         [-0.42415712],\n",
       "         [-0.42415712],\n",
       "         [-0.42415712]],\n",
       "\n",
       "        [[-0.42415712],\n",
       "         [-0.42415712],\n",
       "         [-0.42415712],\n",
       "         ...,\n",
       "         [-0.42415712],\n",
       "         [-0.42415712],\n",
       "         [-0.42415712]],\n",
       "\n",
       "        ...,\n",
       "\n",
       "        [[-0.42415712],\n",
       "         [-0.42415712],\n",
       "         [-0.42415712],\n",
       "         ...,\n",
       "         [-0.42415712],\n",
       "         [-0.42415712],\n",
       "         [-0.42415712]],\n",
       "\n",
       "        [[-0.42415712],\n",
       "         [-0.42415712],\n",
       "         [-0.42415712],\n",
       "         ...,\n",
       "         [-0.42415712],\n",
       "         [-0.42415712],\n",
       "         [-0.42415712]],\n",
       "\n",
       "        [[-0.42415712],\n",
       "         [-0.42415712],\n",
       "         [-0.42415712],\n",
       "         ...,\n",
       "         [-0.42415712],\n",
       "         [-0.42415712],\n",
       "         [-0.42415712]]],\n",
       "\n",
       "\n",
       "       [[[-0.42415712],\n",
       "         [-0.42415712],\n",
       "         [-0.42415712],\n",
       "         ...,\n",
       "         [-0.42415712],\n",
       "         [-0.42415712],\n",
       "         [-0.42415712]],\n",
       "\n",
       "        [[-0.42415712],\n",
       "         [-0.42415712],\n",
       "         [-0.42415712],\n",
       "         ...,\n",
       "         [-0.42415712],\n",
       "         [-0.42415712],\n",
       "         [-0.42415712]],\n",
       "\n",
       "        [[-0.42415712],\n",
       "         [-0.42415712],\n",
       "         [-0.42415712],\n",
       "         ...,\n",
       "         [-0.42415712],\n",
       "         [-0.42415712],\n",
       "         [-0.42415712]],\n",
       "\n",
       "        ...,\n",
       "\n",
       "        [[-0.42415712],\n",
       "         [-0.42415712],\n",
       "         [-0.42415712],\n",
       "         ...,\n",
       "         [-0.42415712],\n",
       "         [-0.42415712],\n",
       "         [-0.42415712]],\n",
       "\n",
       "        [[-0.42415712],\n",
       "         [-0.42415712],\n",
       "         [-0.42415712],\n",
       "         ...,\n",
       "         [-0.42415712],\n",
       "         [-0.42415712],\n",
       "         [-0.42415712]],\n",
       "\n",
       "        [[-0.42415712],\n",
       "         [-0.42415712],\n",
       "         [-0.42415712],\n",
       "         ...,\n",
       "         [-0.42415712],\n",
       "         [-0.42415712],\n",
       "         [-0.42415712]]],\n",
       "\n",
       "\n",
       "       [[[-0.42415712],\n",
       "         [-0.42415712],\n",
       "         [-0.42415712],\n",
       "         ...,\n",
       "         [-0.42415712],\n",
       "         [-0.42415712],\n",
       "         [-0.42415712]],\n",
       "\n",
       "        [[-0.42415712],\n",
       "         [-0.42415712],\n",
       "         [-0.42415712],\n",
       "         ...,\n",
       "         [-0.42415712],\n",
       "         [-0.42415712],\n",
       "         [-0.42415712]],\n",
       "\n",
       "        [[-0.42415712],\n",
       "         [-0.42415712],\n",
       "         [-0.42415712],\n",
       "         ...,\n",
       "         [-0.42415712],\n",
       "         [-0.42415712],\n",
       "         [-0.42415712]],\n",
       "\n",
       "        ...,\n",
       "\n",
       "        [[-0.42415712],\n",
       "         [-0.42415712],\n",
       "         [-0.42415712],\n",
       "         ...,\n",
       "         [-0.42415712],\n",
       "         [-0.42415712],\n",
       "         [-0.42415712]],\n",
       "\n",
       "        [[-0.42415712],\n",
       "         [-0.42415712],\n",
       "         [-0.42415712],\n",
       "         ...,\n",
       "         [-0.42415712],\n",
       "         [-0.42415712],\n",
       "         [-0.42415712]],\n",
       "\n",
       "        [[-0.42415712],\n",
       "         [-0.42415712],\n",
       "         [-0.42415712],\n",
       "         ...,\n",
       "         [-0.42415712],\n",
       "         [-0.42415712],\n",
       "         [-0.42415712]]]])"
      ]
     },
     "execution_count": 15,
     "metadata": {},
     "output_type": "execute_result"
    }
   ],
   "source": [
    "x_train"
   ]
  },
  {
   "cell_type": "code",
   "execution_count": 16,
   "id": "280e63aa-913c-4d49-8482-7f15775079f0",
   "metadata": {},
   "outputs": [],
   "source": [
    "from tensorflow import keras"
   ]
  },
  {
   "cell_type": "code",
   "execution_count": 17,
   "id": "bfce1daa-4a52-48fb-bfd0-f4ee3d91c574",
   "metadata": {},
   "outputs": [],
   "source": [
    "num_labels = 10\n",
    "\n",
    "y_train = keras.utils.to_categorical(y_train)"
   ]
  },
  {
   "cell_type": "code",
   "execution_count": 18,
   "id": "97f64b7a-0be1-4d37-bb2f-495d7e0c8deb",
   "metadata": {},
   "outputs": [
    {
     "data": {
      "text/plain": [
       "array([[0., 1., 0., ..., 0., 0., 0.],\n",
       "       [0., 0., 0., ..., 0., 0., 1.],\n",
       "       [1., 0., 0., ..., 0., 0., 0.],\n",
       "       ...,\n",
       "       [0., 0., 0., ..., 0., 0., 1.],\n",
       "       [0., 0., 0., ..., 0., 0., 0.],\n",
       "       [0., 0., 0., ..., 0., 0., 1.]])"
      ]
     },
     "execution_count": 18,
     "metadata": {},
     "output_type": "execute_result"
    }
   ],
   "source": [
    "y_train"
   ]
  },
  {
   "cell_type": "code",
   "execution_count": 19,
   "id": "e8b61eb5-1dc6-4bcf-ac09-d31d533a226a",
   "metadata": {},
   "outputs": [],
   "source": [
    "y_val = keras.utils.to_categorical(y_val)\n",
    "y_test = keras.utils.to_categorical(y_test)"
   ]
  },
  {
   "cell_type": "markdown",
   "id": "d01c4f49-b37f-4269-8acb-9b6a86010a8a",
   "metadata": {},
   "source": [
    "# Model"
   ]
  },
  {
   "cell_type": "code",
   "execution_count": 20,
   "id": "e854c64f-cc8a-4a90-92bf-af92730e4ee6",
   "metadata": {},
   "outputs": [],
   "source": [
    "from tensorflow.keras.models import Sequential\n",
    "from tensorflow.keras.models import Sequential\n",
    "from tensorflow.keras.layers import Dense, AveragePooling2D, Dropout, Flatten, Input, Conv2D, MaxPooling2D"
   ]
  },
  {
   "cell_type": "code",
   "execution_count": 21,
   "id": "30de1518-d15c-48f8-8c43-ad53c5219c8e",
   "metadata": {},
   "outputs": [
    {
     "name": "stderr",
     "output_type": "stream",
     "text": [
      "C:\\Users\\hp\\AppData\\Local\\Programs\\Python\\Python312\\Lib\\site-packages\\keras\\src\\layers\\convolutional\\base_conv.py:107: UserWarning: Do not pass an `input_shape`/`input_dim` argument to a layer. When using Sequential models, prefer using an `Input(shape)` object as the first layer in the model instead.\n",
      "  super().__init__(activity_regularizer=activity_regularizer, **kwargs)\n"
     ]
    }
   ],
   "source": [
    "model = Sequential()\n",
    "\n",
    "model.add(Conv2D(6, kernel_size = (5, 5), strides = (1, 1), activation = 'tanh', input_shape = (28, 28, 1)))\n",
    "model.add(AveragePooling2D(pool_size = (2, 2), strides = (1, 1)))\n",
    "model.add(Conv2D(16, kernel_size = (5, 5), strides = (1, 1), activation = 'tanh'))\n",
    "model.add(AveragePooling2D(pool_size = (2, 2), strides = (2, 2)))\n",
    "model.add(Conv2D(120, kernel_size = (5, 5), strides = (1, 1), activation = 'tanh'))\n",
    "\n",
    "model.add(Flatten())\n",
    "model.add(Dense(84, activation = 'tanh'))\n",
    "model.add(Dense(num_labels, activation = 'softmax'))"
   ]
  },
  {
   "cell_type": "code",
   "execution_count": 22,
   "id": "b4ed9d41-790c-4630-8671-131373e60ae9",
   "metadata": {},
   "outputs": [
    {
     "data": {
      "text/html": [
       "<pre style=\"white-space:pre;overflow-x:auto;line-height:normal;font-family:Menlo,'DejaVu Sans Mono',consolas,'Courier New',monospace\"><span style=\"font-weight: bold\">Model: \"sequential\"</span>\n",
       "</pre>\n"
      ],
      "text/plain": [
       "\u001b[1mModel: \"sequential\"\u001b[0m\n"
      ]
     },
     "metadata": {},
     "output_type": "display_data"
    },
    {
     "data": {
      "text/html": [
       "<pre style=\"white-space:pre;overflow-x:auto;line-height:normal;font-family:Menlo,'DejaVu Sans Mono',consolas,'Courier New',monospace\">┏━━━━━━━━━━━━━━━━━━━━━━━━━━━━━━━━━━━━━━┳━━━━━━━━━━━━━━━━━━━━━━━━━━━━━┳━━━━━━━━━━━━━━━━━┓\n",
       "┃<span style=\"font-weight: bold\"> Layer (type)                         </span>┃<span style=\"font-weight: bold\"> Output Shape                </span>┃<span style=\"font-weight: bold\">         Param # </span>┃\n",
       "┡━━━━━━━━━━━━━━━━━━━━━━━━━━━━━━━━━━━━━━╇━━━━━━━━━━━━━━━━━━━━━━━━━━━━━╇━━━━━━━━━━━━━━━━━┩\n",
       "│ conv2d (<span style=\"color: #0087ff; text-decoration-color: #0087ff\">Conv2D</span>)                      │ (<span style=\"color: #00d7ff; text-decoration-color: #00d7ff\">None</span>, <span style=\"color: #00af00; text-decoration-color: #00af00\">24</span>, <span style=\"color: #00af00; text-decoration-color: #00af00\">24</span>, <span style=\"color: #00af00; text-decoration-color: #00af00\">6</span>)           │             <span style=\"color: #00af00; text-decoration-color: #00af00\">156</span> │\n",
       "├──────────────────────────────────────┼─────────────────────────────┼─────────────────┤\n",
       "│ average_pooling2d (<span style=\"color: #0087ff; text-decoration-color: #0087ff\">AveragePooling2D</span>) │ (<span style=\"color: #00d7ff; text-decoration-color: #00d7ff\">None</span>, <span style=\"color: #00af00; text-decoration-color: #00af00\">23</span>, <span style=\"color: #00af00; text-decoration-color: #00af00\">23</span>, <span style=\"color: #00af00; text-decoration-color: #00af00\">6</span>)           │               <span style=\"color: #00af00; text-decoration-color: #00af00\">0</span> │\n",
       "├──────────────────────────────────────┼─────────────────────────────┼─────────────────┤\n",
       "│ conv2d_1 (<span style=\"color: #0087ff; text-decoration-color: #0087ff\">Conv2D</span>)                    │ (<span style=\"color: #00d7ff; text-decoration-color: #00d7ff\">None</span>, <span style=\"color: #00af00; text-decoration-color: #00af00\">19</span>, <span style=\"color: #00af00; text-decoration-color: #00af00\">19</span>, <span style=\"color: #00af00; text-decoration-color: #00af00\">16</span>)          │           <span style=\"color: #00af00; text-decoration-color: #00af00\">2,416</span> │\n",
       "├──────────────────────────────────────┼─────────────────────────────┼─────────────────┤\n",
       "│ average_pooling2d_1                  │ (<span style=\"color: #00d7ff; text-decoration-color: #00d7ff\">None</span>, <span style=\"color: #00af00; text-decoration-color: #00af00\">9</span>, <span style=\"color: #00af00; text-decoration-color: #00af00\">9</span>, <span style=\"color: #00af00; text-decoration-color: #00af00\">16</span>)            │               <span style=\"color: #00af00; text-decoration-color: #00af00\">0</span> │\n",
       "│ (<span style=\"color: #0087ff; text-decoration-color: #0087ff\">AveragePooling2D</span>)                   │                             │                 │\n",
       "├──────────────────────────────────────┼─────────────────────────────┼─────────────────┤\n",
       "│ conv2d_2 (<span style=\"color: #0087ff; text-decoration-color: #0087ff\">Conv2D</span>)                    │ (<span style=\"color: #00d7ff; text-decoration-color: #00d7ff\">None</span>, <span style=\"color: #00af00; text-decoration-color: #00af00\">5</span>, <span style=\"color: #00af00; text-decoration-color: #00af00\">5</span>, <span style=\"color: #00af00; text-decoration-color: #00af00\">120</span>)           │          <span style=\"color: #00af00; text-decoration-color: #00af00\">48,120</span> │\n",
       "├──────────────────────────────────────┼─────────────────────────────┼─────────────────┤\n",
       "│ flatten (<span style=\"color: #0087ff; text-decoration-color: #0087ff\">Flatten</span>)                    │ (<span style=\"color: #00d7ff; text-decoration-color: #00d7ff\">None</span>, <span style=\"color: #00af00; text-decoration-color: #00af00\">3000</span>)                │               <span style=\"color: #00af00; text-decoration-color: #00af00\">0</span> │\n",
       "├──────────────────────────────────────┼─────────────────────────────┼─────────────────┤\n",
       "│ dense (<span style=\"color: #0087ff; text-decoration-color: #0087ff\">Dense</span>)                        │ (<span style=\"color: #00d7ff; text-decoration-color: #00d7ff\">None</span>, <span style=\"color: #00af00; text-decoration-color: #00af00\">84</span>)                  │         <span style=\"color: #00af00; text-decoration-color: #00af00\">252,084</span> │\n",
       "├──────────────────────────────────────┼─────────────────────────────┼─────────────────┤\n",
       "│ dense_1 (<span style=\"color: #0087ff; text-decoration-color: #0087ff\">Dense</span>)                      │ (<span style=\"color: #00d7ff; text-decoration-color: #00d7ff\">None</span>, <span style=\"color: #00af00; text-decoration-color: #00af00\">10</span>)                  │             <span style=\"color: #00af00; text-decoration-color: #00af00\">850</span> │\n",
       "└──────────────────────────────────────┴─────────────────────────────┴─────────────────┘\n",
       "</pre>\n"
      ],
      "text/plain": [
       "┏━━━━━━━━━━━━━━━━━━━━━━━━━━━━━━━━━━━━━━┳━━━━━━━━━━━━━━━━━━━━━━━━━━━━━┳━━━━━━━━━━━━━━━━━┓\n",
       "┃\u001b[1m \u001b[0m\u001b[1mLayer (type)                        \u001b[0m\u001b[1m \u001b[0m┃\u001b[1m \u001b[0m\u001b[1mOutput Shape               \u001b[0m\u001b[1m \u001b[0m┃\u001b[1m \u001b[0m\u001b[1m        Param #\u001b[0m\u001b[1m \u001b[0m┃\n",
       "┡━━━━━━━━━━━━━━━━━━━━━━━━━━━━━━━━━━━━━━╇━━━━━━━━━━━━━━━━━━━━━━━━━━━━━╇━━━━━━━━━━━━━━━━━┩\n",
       "│ conv2d (\u001b[38;5;33mConv2D\u001b[0m)                      │ (\u001b[38;5;45mNone\u001b[0m, \u001b[38;5;34m24\u001b[0m, \u001b[38;5;34m24\u001b[0m, \u001b[38;5;34m6\u001b[0m)           │             \u001b[38;5;34m156\u001b[0m │\n",
       "├──────────────────────────────────────┼─────────────────────────────┼─────────────────┤\n",
       "│ average_pooling2d (\u001b[38;5;33mAveragePooling2D\u001b[0m) │ (\u001b[38;5;45mNone\u001b[0m, \u001b[38;5;34m23\u001b[0m, \u001b[38;5;34m23\u001b[0m, \u001b[38;5;34m6\u001b[0m)           │               \u001b[38;5;34m0\u001b[0m │\n",
       "├──────────────────────────────────────┼─────────────────────────────┼─────────────────┤\n",
       "│ conv2d_1 (\u001b[38;5;33mConv2D\u001b[0m)                    │ (\u001b[38;5;45mNone\u001b[0m, \u001b[38;5;34m19\u001b[0m, \u001b[38;5;34m19\u001b[0m, \u001b[38;5;34m16\u001b[0m)          │           \u001b[38;5;34m2,416\u001b[0m │\n",
       "├──────────────────────────────────────┼─────────────────────────────┼─────────────────┤\n",
       "│ average_pooling2d_1                  │ (\u001b[38;5;45mNone\u001b[0m, \u001b[38;5;34m9\u001b[0m, \u001b[38;5;34m9\u001b[0m, \u001b[38;5;34m16\u001b[0m)            │               \u001b[38;5;34m0\u001b[0m │\n",
       "│ (\u001b[38;5;33mAveragePooling2D\u001b[0m)                   │                             │                 │\n",
       "├──────────────────────────────────────┼─────────────────────────────┼─────────────────┤\n",
       "│ conv2d_2 (\u001b[38;5;33mConv2D\u001b[0m)                    │ (\u001b[38;5;45mNone\u001b[0m, \u001b[38;5;34m5\u001b[0m, \u001b[38;5;34m5\u001b[0m, \u001b[38;5;34m120\u001b[0m)           │          \u001b[38;5;34m48,120\u001b[0m │\n",
       "├──────────────────────────────────────┼─────────────────────────────┼─────────────────┤\n",
       "│ flatten (\u001b[38;5;33mFlatten\u001b[0m)                    │ (\u001b[38;5;45mNone\u001b[0m, \u001b[38;5;34m3000\u001b[0m)                │               \u001b[38;5;34m0\u001b[0m │\n",
       "├──────────────────────────────────────┼─────────────────────────────┼─────────────────┤\n",
       "│ dense (\u001b[38;5;33mDense\u001b[0m)                        │ (\u001b[38;5;45mNone\u001b[0m, \u001b[38;5;34m84\u001b[0m)                  │         \u001b[38;5;34m252,084\u001b[0m │\n",
       "├──────────────────────────────────────┼─────────────────────────────┼─────────────────┤\n",
       "│ dense_1 (\u001b[38;5;33mDense\u001b[0m)                      │ (\u001b[38;5;45mNone\u001b[0m, \u001b[38;5;34m10\u001b[0m)                  │             \u001b[38;5;34m850\u001b[0m │\n",
       "└──────────────────────────────────────┴─────────────────────────────┴─────────────────┘\n"
      ]
     },
     "metadata": {},
     "output_type": "display_data"
    },
    {
     "data": {
      "text/html": [
       "<pre style=\"white-space:pre;overflow-x:auto;line-height:normal;font-family:Menlo,'DejaVu Sans Mono',consolas,'Courier New',monospace\"><span style=\"font-weight: bold\"> Total params: </span><span style=\"color: #00af00; text-decoration-color: #00af00\">303,626</span> (1.16 MB)\n",
       "</pre>\n"
      ],
      "text/plain": [
       "\u001b[1m Total params: \u001b[0m\u001b[38;5;34m303,626\u001b[0m (1.16 MB)\n"
      ]
     },
     "metadata": {},
     "output_type": "display_data"
    },
    {
     "data": {
      "text/html": [
       "<pre style=\"white-space:pre;overflow-x:auto;line-height:normal;font-family:Menlo,'DejaVu Sans Mono',consolas,'Courier New',monospace\"><span style=\"font-weight: bold\"> Trainable params: </span><span style=\"color: #00af00; text-decoration-color: #00af00\">303,626</span> (1.16 MB)\n",
       "</pre>\n"
      ],
      "text/plain": [
       "\u001b[1m Trainable params: \u001b[0m\u001b[38;5;34m303,626\u001b[0m (1.16 MB)\n"
      ]
     },
     "metadata": {},
     "output_type": "display_data"
    },
    {
     "data": {
      "text/html": [
       "<pre style=\"white-space:pre;overflow-x:auto;line-height:normal;font-family:Menlo,'DejaVu Sans Mono',consolas,'Courier New',monospace\"><span style=\"font-weight: bold\"> Non-trainable params: </span><span style=\"color: #00af00; text-decoration-color: #00af00\">0</span> (0.00 B)\n",
       "</pre>\n"
      ],
      "text/plain": [
       "\u001b[1m Non-trainable params: \u001b[0m\u001b[38;5;34m0\u001b[0m (0.00 B)\n"
      ]
     },
     "metadata": {},
     "output_type": "display_data"
    }
   ],
   "source": [
    "model.summary()"
   ]
  },
  {
   "cell_type": "code",
   "execution_count": 23,
   "id": "d76a981b-4ffa-4328-b13a-b8e2f3f9f2ce",
   "metadata": {},
   "outputs": [],
   "source": [
    "model.compile(loss = keras.losses.categorical_crossentropy, optimizer = 'adam', metrics = ['accuracy'])"
   ]
  },
  {
   "cell_type": "code",
   "execution_count": 26,
   "id": "b1f3456a-0f55-498c-87c9-8b1716cb8919",
   "metadata": {},
   "outputs": [
    {
     "name": "stdout",
     "output_type": "stream",
     "text": [
      "Epoch 1/10\n",
      "\u001b[1m1688/1688\u001b[0m \u001b[32m━━━━━━━━━━━━━━━━━━━━\u001b[0m\u001b[37m\u001b[0m \u001b[1m66s\u001b[0m 37ms/step - accuracy: 0.9040 - loss: 0.3191 - val_accuracy: 0.9685 - val_loss: 0.1044\n",
      "Epoch 2/10\n",
      "\u001b[1m1688/1688\u001b[0m \u001b[32m━━━━━━━━━━━━━━━━━━━━\u001b[0m\u001b[37m\u001b[0m \u001b[1m62s\u001b[0m 37ms/step - accuracy: 0.9703 - loss: 0.0950 - val_accuracy: 0.9747 - val_loss: 0.0853\n",
      "Epoch 3/10\n",
      "\u001b[1m1688/1688\u001b[0m \u001b[32m━━━━━━━━━━━━━━━━━━━━\u001b[0m\u001b[37m\u001b[0m \u001b[1m62s\u001b[0m 37ms/step - accuracy: 0.9735 - loss: 0.0877 - val_accuracy: 0.9755 - val_loss: 0.0734\n",
      "Epoch 4/10\n",
      "\u001b[1m1688/1688\u001b[0m \u001b[32m━━━━━━━━━━━━━━━━━━━━\u001b[0m\u001b[37m\u001b[0m \u001b[1m67s\u001b[0m 40ms/step - accuracy: 0.9779 - loss: 0.0740 - val_accuracy: 0.9755 - val_loss: 0.0734\n",
      "Epoch 5/10\n",
      "\u001b[1m1688/1688\u001b[0m \u001b[32m━━━━━━━━━━━━━━━━━━━━\u001b[0m\u001b[37m\u001b[0m \u001b[1m76s\u001b[0m 36ms/step - accuracy: 0.9796 - loss: 0.0678 - val_accuracy: 0.9772 - val_loss: 0.0743\n",
      "Epoch 6/10\n",
      "\u001b[1m1688/1688\u001b[0m \u001b[32m━━━━━━━━━━━━━━━━━━━━\u001b[0m\u001b[37m\u001b[0m \u001b[1m56s\u001b[0m 33ms/step - accuracy: 0.9809 - loss: 0.0623 - val_accuracy: 0.9768 - val_loss: 0.0726\n",
      "Epoch 7/10\n",
      "\u001b[1m1688/1688\u001b[0m \u001b[32m━━━━━━━━━━━━━━━━━━━━\u001b[0m\u001b[37m\u001b[0m \u001b[1m49s\u001b[0m 29ms/step - accuracy: 0.9818 - loss: 0.0595 - val_accuracy: 0.9795 - val_loss: 0.0651\n",
      "Epoch 8/10\n",
      "\u001b[1m1688/1688\u001b[0m \u001b[32m━━━━━━━━━━━━━━━━━━━━\u001b[0m\u001b[37m\u001b[0m \u001b[1m48s\u001b[0m 28ms/step - accuracy: 0.9836 - loss: 0.0552 - val_accuracy: 0.9797 - val_loss: 0.0645\n",
      "Epoch 9/10\n",
      "\u001b[1m1688/1688\u001b[0m \u001b[32m━━━━━━━━━━━━━━━━━━━━\u001b[0m\u001b[37m\u001b[0m \u001b[1m52s\u001b[0m 31ms/step - accuracy: 0.9833 - loss: 0.0547 - val_accuracy: 0.9835 - val_loss: 0.0515\n",
      "Epoch 10/10\n",
      "\u001b[1m1688/1688\u001b[0m \u001b[32m━━━━━━━━━━━━━━━━━━━━\u001b[0m\u001b[37m\u001b[0m \u001b[1m52s\u001b[0m 31ms/step - accuracy: 0.9836 - loss: 0.0526 - val_accuracy: 0.9833 - val_loss: 0.0582\n"
     ]
    }
   ],
   "source": [
    "history = model.fit(x_train, y_train, batch_size = 32, epochs = 10, verbose = 1, validation_data = (x_val, y_val))"
   ]
  },
  {
   "cell_type": "code",
   "execution_count": 27,
   "id": "c23b30f3-c8c6-4af4-bc4e-f9f3fbe2bb1b",
   "metadata": {},
   "outputs": [
    {
     "name": "stdout",
     "output_type": "stream",
     "text": [
      "\u001b[1m313/313\u001b[0m \u001b[32m━━━━━━━━━━━━━━━━━━━━\u001b[0m\u001b[37m\u001b[0m \u001b[1m2s\u001b[0m 5ms/step - accuracy: 0.9810 - loss: 0.0534\n"
     ]
    }
   ],
   "source": [
    "score = model.evaluate(x_test, y_test, verbose = 1)"
   ]
  },
  {
   "cell_type": "code",
   "execution_count": 28,
   "id": "66f80487-b187-472e-a26d-8ad4a9a2a2e3",
   "metadata": {},
   "outputs": [
    {
     "data": {
      "text/plain": [
       "[0.04578394442796707, 0.9850000143051147]"
      ]
     },
     "execution_count": 28,
     "metadata": {},
     "output_type": "execute_result"
    }
   ],
   "source": [
    "score"
   ]
  },
  {
   "cell_type": "code",
   "execution_count": null,
   "id": "43de52c3-a594-42dd-a88e-90e629e58308",
   "metadata": {},
   "outputs": [],
   "source": []
  }
 ],
 "metadata": {
  "kernelspec": {
   "display_name": "Python 3 (ipykernel)",
   "language": "python",
   "name": "python3"
  },
  "language_info": {
   "codemirror_mode": {
    "name": "ipython",
    "version": 3
   },
   "file_extension": ".py",
   "mimetype": "text/x-python",
   "name": "python",
   "nbconvert_exporter": "python",
   "pygments_lexer": "ipython3",
   "version": "3.12.6"
  }
 },
 "nbformat": 4,
 "nbformat_minor": 5
}
